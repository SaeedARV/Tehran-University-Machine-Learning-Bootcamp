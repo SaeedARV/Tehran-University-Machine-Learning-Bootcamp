{
  "cells": [
    {
      "cell_type": "markdown",
      "metadata": {
        "id": "K7CxNd1XuS2Z"
      },
      "source": [
        "<img src=\"https://raw.githubusercontent.com/HooshBaaz/2022_DataAnalytics_SummerSchool/main/assets/logo3.png\" width=\"200\" height=\"200\" >\n",
        "\n",
        "<div style=\"display:block\"><br><br>\n",
        "    <div style=\"display:block\" align=left display=block> \n",
        "        <font size=5><b>Day3 - HandsOn2: Muli Label Classification & Imbalance Data</b></font><br>\n",
        "        <hr/>\n",
        "\n",
        "</div>\n",
        "\n",
        "<pre>\n",
        ".\n",
        "── Dataset\n",
        "│\n",
        "├── One vs One Classification\n",
        "│\n",
        "├── One vs Rest Classification\n",
        "├\n",
        "├── ROC/AUC\n",
        "│\n",
        "├── Different Models Performance\n",
        "│ \n",
        "├── Dealing with Imbalance Data\n",
        "│\n",
        "└── Effect of Over-Sampling and Under Sampling\n",
        "</pre>"
      ]
    },
    {
      "cell_type": "markdown",
      "metadata": {
        "id": "5laga0mAuS2b"
      },
      "source": [
        "The sections marked with a Thinking Emoji (💭) are those which you need to read and answer. All right, without further ado, let's get started!\n",
        "______________________________________"
      ]
    },
    {
      "cell_type": "markdown",
      "metadata": {
        "id": "b4WQdwDiuS2c"
      },
      "source": [
        "## Import Modules/Libraries"
      ]
    },
    {
      "cell_type": "code",
      "execution_count": 267,
      "metadata": {
        "id": "w_Si9KWduS2c"
      },
      "outputs": [],
      "source": [
        "# Import\n",
        "import pandas as pd\n",
        "import matplotlib.pyplot as plt\n",
        "import seaborn as sns"
      ]
    },
    {
      "cell_type": "markdown",
      "metadata": {
        "id": "9ozixJsHuS2d"
      },
      "source": [
        "_______________________"
      ]
    },
    {
      "cell_type": "markdown",
      "metadata": {
        "id": "65X145eluS2e"
      },
      "source": [
        "## Dataset"
      ]
    },
    {
      "cell_type": "markdown",
      "metadata": {
        "id": "8lVKrbqduS2e"
      },
      "source": [
        "Before doing anything, we need to get familiar with Dataset. In this HandsON, we will focus on the standard imbalanced multi-class classification problem referred to as “Glass Identification” or simply `glass`. The dataset describes the chemical properties of glass and involves classifying samples of glass using their chemical properties as one of six classes. The dataset was credited to Vina Spiehler in 1987. Ignoring the sample identification number, there are nine input variables that summarize the properties of the glass dataset; they are:\n",
        "\n",
        "- RI: Refractive Index\n",
        "- Na: Sodium\n",
        "- Mg: Magnesium\n",
        "- Al: Aluminum\n",
        "- Si: Silicon\n",
        "- K: Potassium\n",
        "- Ca: Calcium\n",
        "- Ba: Barium\n",
        "- Fe: Iron\n",
        "\n",
        "The chemical compositions are measured as the weight percent in corresponding oxide."
      ]
    },
    {
      "cell_type": "markdown",
      "metadata": {
        "id": "qF3FZ3ZPuS2e"
      },
      "source": [
        "### 📖 Read Dataset and Exploration\n",
        "In this section we are going to read the dataset and have some visualizations to explore the dataset.\n",
        "\n",
        "#### 💭 Questions\n",
        "- Read the dataset `glass.csv` considering column names which are explaiend before and use the name `Label` for the target column.\n",
        "- plot count of each label by choosing a proper plot. can you explain what is the problem in this dataset?\n",
        "\n",
        "\n",
        "**Write the answer below:** \n"
      ]
    },
    {
      "cell_type": "code",
      "execution_count": 268,
      "metadata": {
        "id": "h4JrE9WvuS2f"
      },
      "outputs": [
        {
          "data": {
            "text/html": [
              "<div>\n",
              "<style scoped>\n",
              "    .dataframe tbody tr th:only-of-type {\n",
              "        vertical-align: middle;\n",
              "    }\n",
              "\n",
              "    .dataframe tbody tr th {\n",
              "        vertical-align: top;\n",
              "    }\n",
              "\n",
              "    .dataframe thead th {\n",
              "        text-align: right;\n",
              "    }\n",
              "</style>\n",
              "<table border=\"1\" class=\"dataframe\">\n",
              "  <thead>\n",
              "    <tr style=\"text-align: right;\">\n",
              "      <th></th>\n",
              "      <th>1.52101</th>\n",
              "      <th>13.64</th>\n",
              "      <th>4.49</th>\n",
              "      <th>1.10</th>\n",
              "      <th>71.78</th>\n",
              "      <th>0.06</th>\n",
              "      <th>8.75</th>\n",
              "      <th>0.00</th>\n",
              "      <th>0.00.1</th>\n",
              "      <th>Label</th>\n",
              "    </tr>\n",
              "  </thead>\n",
              "  <tbody>\n",
              "    <tr>\n",
              "      <th>0</th>\n",
              "      <td>1.51761</td>\n",
              "      <td>13.89</td>\n",
              "      <td>3.60</td>\n",
              "      <td>1.36</td>\n",
              "      <td>72.73</td>\n",
              "      <td>0.48</td>\n",
              "      <td>7.83</td>\n",
              "      <td>0.00</td>\n",
              "      <td>0.00</td>\n",
              "      <td>1</td>\n",
              "    </tr>\n",
              "    <tr>\n",
              "      <th>1</th>\n",
              "      <td>1.51618</td>\n",
              "      <td>13.53</td>\n",
              "      <td>3.55</td>\n",
              "      <td>1.54</td>\n",
              "      <td>72.99</td>\n",
              "      <td>0.39</td>\n",
              "      <td>7.78</td>\n",
              "      <td>0.00</td>\n",
              "      <td>0.00</td>\n",
              "      <td>1</td>\n",
              "    </tr>\n",
              "    <tr>\n",
              "      <th>2</th>\n",
              "      <td>1.51766</td>\n",
              "      <td>13.21</td>\n",
              "      <td>3.69</td>\n",
              "      <td>1.29</td>\n",
              "      <td>72.61</td>\n",
              "      <td>0.57</td>\n",
              "      <td>8.22</td>\n",
              "      <td>0.00</td>\n",
              "      <td>0.00</td>\n",
              "      <td>1</td>\n",
              "    </tr>\n",
              "    <tr>\n",
              "      <th>3</th>\n",
              "      <td>1.51742</td>\n",
              "      <td>13.27</td>\n",
              "      <td>3.62</td>\n",
              "      <td>1.24</td>\n",
              "      <td>73.08</td>\n",
              "      <td>0.55</td>\n",
              "      <td>8.07</td>\n",
              "      <td>0.00</td>\n",
              "      <td>0.00</td>\n",
              "      <td>1</td>\n",
              "    </tr>\n",
              "    <tr>\n",
              "      <th>4</th>\n",
              "      <td>1.51596</td>\n",
              "      <td>12.79</td>\n",
              "      <td>3.61</td>\n",
              "      <td>1.62</td>\n",
              "      <td>72.97</td>\n",
              "      <td>0.64</td>\n",
              "      <td>8.07</td>\n",
              "      <td>0.00</td>\n",
              "      <td>0.26</td>\n",
              "      <td>1</td>\n",
              "    </tr>\n",
              "    <tr>\n",
              "      <th>...</th>\n",
              "      <td>...</td>\n",
              "      <td>...</td>\n",
              "      <td>...</td>\n",
              "      <td>...</td>\n",
              "      <td>...</td>\n",
              "      <td>...</td>\n",
              "      <td>...</td>\n",
              "      <td>...</td>\n",
              "      <td>...</td>\n",
              "      <td>...</td>\n",
              "    </tr>\n",
              "    <tr>\n",
              "      <th>208</th>\n",
              "      <td>1.51623</td>\n",
              "      <td>14.14</td>\n",
              "      <td>0.00</td>\n",
              "      <td>2.88</td>\n",
              "      <td>72.61</td>\n",
              "      <td>0.08</td>\n",
              "      <td>9.18</td>\n",
              "      <td>1.06</td>\n",
              "      <td>0.00</td>\n",
              "      <td>7</td>\n",
              "    </tr>\n",
              "    <tr>\n",
              "      <th>209</th>\n",
              "      <td>1.51685</td>\n",
              "      <td>14.92</td>\n",
              "      <td>0.00</td>\n",
              "      <td>1.99</td>\n",
              "      <td>73.06</td>\n",
              "      <td>0.00</td>\n",
              "      <td>8.40</td>\n",
              "      <td>1.59</td>\n",
              "      <td>0.00</td>\n",
              "      <td>7</td>\n",
              "    </tr>\n",
              "    <tr>\n",
              "      <th>210</th>\n",
              "      <td>1.52065</td>\n",
              "      <td>14.36</td>\n",
              "      <td>0.00</td>\n",
              "      <td>2.02</td>\n",
              "      <td>73.42</td>\n",
              "      <td>0.00</td>\n",
              "      <td>8.44</td>\n",
              "      <td>1.64</td>\n",
              "      <td>0.00</td>\n",
              "      <td>7</td>\n",
              "    </tr>\n",
              "    <tr>\n",
              "      <th>211</th>\n",
              "      <td>1.51651</td>\n",
              "      <td>14.38</td>\n",
              "      <td>0.00</td>\n",
              "      <td>1.94</td>\n",
              "      <td>73.61</td>\n",
              "      <td>0.00</td>\n",
              "      <td>8.48</td>\n",
              "      <td>1.57</td>\n",
              "      <td>0.00</td>\n",
              "      <td>7</td>\n",
              "    </tr>\n",
              "    <tr>\n",
              "      <th>212</th>\n",
              "      <td>1.51711</td>\n",
              "      <td>14.23</td>\n",
              "      <td>0.00</td>\n",
              "      <td>2.08</td>\n",
              "      <td>73.36</td>\n",
              "      <td>0.00</td>\n",
              "      <td>8.62</td>\n",
              "      <td>1.67</td>\n",
              "      <td>0.00</td>\n",
              "      <td>7</td>\n",
              "    </tr>\n",
              "  </tbody>\n",
              "</table>\n",
              "<p>213 rows × 10 columns</p>\n",
              "</div>"
            ],
            "text/plain": [
              "     1.52101  13.64  4.49  1.10  71.78  0.06  8.75  0.00  0.00.1  Label\n",
              "0    1.51761  13.89  3.60  1.36  72.73  0.48  7.83  0.00    0.00      1\n",
              "1    1.51618  13.53  3.55  1.54  72.99  0.39  7.78  0.00    0.00      1\n",
              "2    1.51766  13.21  3.69  1.29  72.61  0.57  8.22  0.00    0.00      1\n",
              "3    1.51742  13.27  3.62  1.24  73.08  0.55  8.07  0.00    0.00      1\n",
              "4    1.51596  12.79  3.61  1.62  72.97  0.64  8.07  0.00    0.26      1\n",
              "..       ...    ...   ...   ...    ...   ...   ...   ...     ...    ...\n",
              "208  1.51623  14.14  0.00  2.88  72.61  0.08  9.18  1.06    0.00      7\n",
              "209  1.51685  14.92  0.00  1.99  73.06  0.00  8.40  1.59    0.00      7\n",
              "210  1.52065  14.36  0.00  2.02  73.42  0.00  8.44  1.64    0.00      7\n",
              "211  1.51651  14.38  0.00  1.94  73.61  0.00  8.48  1.57    0.00      7\n",
              "212  1.51711  14.23  0.00  2.08  73.36  0.00  8.62  1.67    0.00      7\n",
              "\n",
              "[213 rows x 10 columns]"
            ]
          },
          "execution_count": 268,
          "metadata": {},
          "output_type": "execute_result"
        }
      ],
      "source": [
        "# Read csv data\n",
        "df = pd.read_csv('glass.csv')\n",
        "df = df.rename(columns={'1': 'Label'})\n",
        "df"
      ]
    },
    {
      "cell_type": "code",
      "execution_count": 269,
      "metadata": {
        "id": "RZov88uJuS2f"
      },
      "outputs": [
        {
          "data": {
            "text/plain": [
              "<AxesSubplot:>"
            ]
          },
          "execution_count": 269,
          "metadata": {},
          "output_type": "execute_result"
        },
        {
          "data": {
            "image/png": "[encoded data removed]",
            "text/plain": [
              "<Figure size 640x480 with 1 Axes>"
            ]
          },
          "metadata": {},
          "output_type": "display_data"
        }
      ],
      "source": [
        "# plot count of each label\n",
        "df['Label'].value_counts().plot(kind='bar')"
      ]
    },
    {
      "cell_type": "markdown",
      "metadata": {
        "id": "mNBEScT7uS2g"
      },
      "source": [
        "__________________________"
      ]
    },
    {
      "cell_type": "markdown",
      "metadata": {
        "id": "Wjr2APywuS2g"
      },
      "source": [
        "## One vs One Classification"
      ]
    },
    {
      "cell_type": "markdown",
      "metadata": {
        "id": "5K3gfpH7uS2g"
      },
      "source": [
        "Unlike the dataset that you work on in the morning session, this dataset is Multiclass. Thus we can not use models like `svm` and `logistic regression` directly to classify multiclass data, because they are designed for binary classification. We need to use techniques to concur this problem. classifying One-vs-One is a heuristic method for using binary classification algorithms for multi-class classification. In this section we are going to deal with this problem.\n",
        "\n",
        "\n",
        "#### 💭 Questions\n",
        "- As always, Split data into two parts: Train and Test. use 20% of data for test.\n",
        "- Define a logistic regression model.\n",
        "- Use the `One-vs-One` method of the sklearn library to define a classifier for multiclass data.\n",
        "- Train your model on Train data and get predictions for test data.\n",
        "- As the data is imbalanced, select a proper evaluation metric and evaluate your model.\n",
        "\n",
        "\n",
        "**Write the answer below:** "
      ]
    },
    {
      "cell_type": "code",
      "execution_count": 270,
      "metadata": {
        "id": "u61hxC_huS2g"
      },
      "outputs": [],
      "source": [
        "# Train Test Split\n",
        "from sklearn.model_selection import train_test_split\n",
        "\n",
        "X = df.drop('Label', axis=1)\n",
        "y = df['Label']\n",
        "\n",
        "X_train, X_test, y_train, y_test = train_test_split(X, y, test_size=0.2)"
      ]
    },
    {
      "cell_type": "code",
      "execution_count": 271,
      "metadata": {
        "id": "-GIPQA7FuS2h"
      },
      "outputs": [],
      "source": [
        "#define logitic regression model\n",
        "from sklearn.linear_model import LogisticRegression\n",
        "\n",
        "lr = LogisticRegression(max_iter=5000)"
      ]
    },
    {
      "cell_type": "code",
      "execution_count": 272,
      "metadata": {
        "id": "vb-rGCQcuS2h"
      },
      "outputs": [],
      "source": [
        "# define one vs one classfier and train and predict labels for test data\n",
        "from sklearn.multiclass import OneVsOneClassifier\n",
        "\n",
        "ovo = OneVsOneClassifier(lr).fit(X_train, y_train)\n",
        "\n",
        "y_pred = ovo.predict(X_test)\n"
      ]
    },
    {
      "cell_type": "code",
      "execution_count": 273,
      "metadata": {
        "id": "g-r1heZ2uS2h"
      },
      "outputs": [
        {
          "name": "stdout",
          "output_type": "stream",
          "text": [
            "              precision    recall  f1-score   support\n",
            "\n",
            "           1       0.92      0.55      0.69        20\n",
            "           2       0.61      0.73      0.67        15\n",
            "           3       0.00      0.00      0.00         0\n",
            "           5       0.75      1.00      0.86         3\n",
            "           6       0.33      0.50      0.40         2\n",
            "           7       1.00      1.00      1.00         3\n",
            "\n",
            "    accuracy                           0.67        43\n",
            "   macro avg       0.60      0.63      0.60        43\n",
            "weighted avg       0.78      0.67      0.70        43\n",
            "\n"
          ]
        },
        {
          "name": "stderr",
          "output_type": "stream",
          "text": [
            "C:\\Users\\Lenovo\\AppData\\Local\\Packages\\PythonSoftwareFoundation.Python.3.10_qbz5n2kfra8p0\\LocalCache\\local-packages\\Python310\\site-packages\\sklearn\\metrics\\_classification.py:1334: UndefinedMetricWarning: Recall and F-score are ill-defined and being set to 0.0 in labels with no true samples. Use `zero_division` parameter to control this behavior.\n",
            "  _warn_prf(average, modifier, msg_start, len(result))\n",
            "C:\\Users\\Lenovo\\AppData\\Local\\Packages\\PythonSoftwareFoundation.Python.3.10_qbz5n2kfra8p0\\LocalCache\\local-packages\\Python310\\site-packages\\sklearn\\metrics\\_classification.py:1334: UndefinedMetricWarning: Recall and F-score are ill-defined and being set to 0.0 in labels with no true samples. Use `zero_division` parameter to control this behavior.\n",
            "  _warn_prf(average, modifier, msg_start, len(result))\n",
            "C:\\Users\\Lenovo\\AppData\\Local\\Packages\\PythonSoftwareFoundation.Python.3.10_qbz5n2kfra8p0\\LocalCache\\local-packages\\Python310\\site-packages\\sklearn\\metrics\\_classification.py:1334: UndefinedMetricWarning: Recall and F-score are ill-defined and being set to 0.0 in labels with no true samples. Use `zero_division` parameter to control this behavior.\n",
            "  _warn_prf(average, modifier, msg_start, len(result))\n"
          ]
        }
      ],
      "source": [
        "# evaluate your classifier\n",
        "from sklearn.metrics import classification_report\n",
        "\n",
        "print(classification_report(y_pred, y_test))\n"
      ]
    },
    {
      "cell_type": "markdown",
      "metadata": {
        "id": "89SPPHKtuS2h"
      },
      "source": [
        "__________________________"
      ]
    },
    {
      "cell_type": "markdown",
      "metadata": {
        "id": "xf_wfyNPuS2h"
      },
      "source": [
        "## One vs Rest Classification"
      ]
    },
    {
      "cell_type": "markdown",
      "metadata": {
        "id": "gb6zKBnFuS2h"
      },
      "source": [
        "One-vs-rest (OvR for short, also referred to as One-vs-All or OvA) is another heuristic method for using binary classification algorithms for multi-class classification. It involves splitting the multi-class dataset into multiple binary classification problems. A binary classifier is then trained on each binary classification problem and predictions are made using the model that is the most confident. In this section we will use this technique to classify our multiclass data.\n",
        "#### 💭 Questions\n",
        "- Define a new linear model (in this section `logistic regression`)\n",
        "- Use the `One-vs-Rest` method of the sklearn library to define a classifier for multiclass data.\n",
        "- Train your model on Train data that you have splitted in the last section and get predictions for test data.\n",
        "- Evaluate your model with the same metric that you have evaluated your `one-vs-one` model.\n",
        "\n",
        "\n",
        "**Write the answer below:** "
      ]
    },
    {
      "cell_type": "code",
      "execution_count": 274,
      "metadata": {
        "id": "_qVJNwyRuS2i"
      },
      "outputs": [],
      "source": [
        "#define logitic regression model\n",
        "lr = LogisticRegression(max_iter=5000)"
      ]
    },
    {
      "cell_type": "code",
      "execution_count": 275,
      "metadata": {
        "id": "s3oAUbjSuS2i"
      },
      "outputs": [],
      "source": [
        "# define one vs all classfier and train and predict labels for test data\n",
        "\n",
        "from sklearn.multiclass import OneVsRestClassifier\n",
        "\n",
        "ovr = OneVsRestClassifier(lr).fit(X_train, y_train)\n",
        "\n",
        "y_pred2 = ovr.predict(X_test)"
      ]
    },
    {
      "cell_type": "code",
      "execution_count": 276,
      "metadata": {
        "id": "TB0xGbwluS2i"
      },
      "outputs": [
        {
          "name": "stdout",
          "output_type": "stream",
          "text": [
            "              precision    recall  f1-score   support\n",
            "\n",
            "           1       0.92      0.46      0.61        24\n",
            "           2       0.39      0.58      0.47        12\n",
            "           3       0.00      0.00      0.00         0\n",
            "           5       0.00      0.00      0.00         0\n",
            "           6       0.33      0.50      0.40         2\n",
            "           7       1.00      0.60      0.75         5\n",
            "\n",
            "    accuracy                           0.51        43\n",
            "   macro avg       0.44      0.36      0.37        43\n",
            "weighted avg       0.75      0.51      0.58        43\n",
            "\n"
          ]
        },
        {
          "name": "stderr",
          "output_type": "stream",
          "text": [
            "C:\\Users\\Lenovo\\AppData\\Local\\Packages\\PythonSoftwareFoundation.Python.3.10_qbz5n2kfra8p0\\LocalCache\\local-packages\\Python310\\site-packages\\sklearn\\metrics\\_classification.py:1334: UndefinedMetricWarning: Recall and F-score are ill-defined and being set to 0.0 in labels with no true samples. Use `zero_division` parameter to control this behavior.\n",
            "  _warn_prf(average, modifier, msg_start, len(result))\n",
            "C:\\Users\\Lenovo\\AppData\\Local\\Packages\\PythonSoftwareFoundation.Python.3.10_qbz5n2kfra8p0\\LocalCache\\local-packages\\Python310\\site-packages\\sklearn\\metrics\\_classification.py:1334: UndefinedMetricWarning: Recall and F-score are ill-defined and being set to 0.0 in labels with no true samples. Use `zero_division` parameter to control this behavior.\n",
            "  _warn_prf(average, modifier, msg_start, len(result))\n",
            "C:\\Users\\Lenovo\\AppData\\Local\\Packages\\PythonSoftwareFoundation.Python.3.10_qbz5n2kfra8p0\\LocalCache\\local-packages\\Python310\\site-packages\\sklearn\\metrics\\_classification.py:1334: UndefinedMetricWarning: Recall and F-score are ill-defined and being set to 0.0 in labels with no true samples. Use `zero_division` parameter to control this behavior.\n",
            "  _warn_prf(average, modifier, msg_start, len(result))\n"
          ]
        }
      ],
      "source": [
        "# evaluate your classifier\n",
        "from sklearn.metrics import classification_report\n",
        "\n",
        "print(classification_report(y_pred2, y_test))\n"
      ]
    },
    {
      "cell_type": "markdown",
      "metadata": {
        "id": "eX8gEqogxdIH"
      },
      "source": [
        "### 📖 ROC/AUC\n",
        "The receiver operating characteristic (ROC) curve is another common tool used with binary classifiers. In this section we are going to plot ROC and compute AUC for our classifier.\n",
        "\n",
        "\n",
        "#### 💭 Questions\n",
        "- plot `ROC` curve for the classifier.\n",
        "- Calculate `AUC` for the one vs one classfier you trained on data.\n",
        "\n",
        "\n",
        "\n",
        "\n",
        "**Write the answer below:**"
      ]
    },
    {
      "cell_type": "code",
      "execution_count": 277,
      "metadata": {
        "id": "12XnrZt4xdII"
      },
      "outputs": [
        {
          "data": {
            "text/plain": [
              "[<matplotlib.lines.Line2D at 0x1ec8b9c61d0>]"
            ]
          },
          "execution_count": 277,
          "metadata": {},
          "output_type": "execute_result"
        },
        {
          "data": {
            "image/png": "[encoded data removed]",
            "text/plain": [
              "<Figure size 640x480 with 1 Axes>"
            ]
          },
          "metadata": {},
          "output_type": "display_data"
        }
      ],
      "source": [
        "# Roc\n",
        "from sklearn.metrics import roc_curve, RocCurveDisplay\n",
        "\n",
        "preds = ovr.predict_proba(X_test)[:,1]\n",
        "fpr, tpr, threshold = roc_curve(y_test, preds, pos_label=1)\n",
        "\n",
        "plt.plot(fpr, tpr)"
      ]
    },
    {
      "cell_type": "code",
      "execution_count": 278,
      "metadata": {
        "id": "_kiGzXhRxdII"
      },
      "outputs": [
        {
          "data": {
            "text/plain": [
              "0.33602150537634407"
            ]
          },
          "execution_count": 278,
          "metadata": {},
          "output_type": "execute_result"
        }
      ],
      "source": [
        "# Auc\n",
        "from sklearn.metrics import auc\n",
        "auc(fpr, tpr)"
      ]
    },
    {
      "cell_type": "markdown",
      "metadata": {
        "id": "oqtC823wuS2i"
      },
      "source": [
        "__________________________"
      ]
    },
    {
      "cell_type": "markdown",
      "metadata": {
        "id": "V40tu854uS2i"
      },
      "source": [
        "## Different Models Performance"
      ]
    },
    {
      "cell_type": "markdown",
      "metadata": {
        "id": "ZWrxUygmuS2i"
      },
      "source": [
        "In this section we are going to compare performance of different classifiers on our data.\n",
        "#### 💭 Questions\n",
        "- Define Models like `KNN`, `Gaussian Naive Bayes` which are inherently for multiclass classification and `logistic regression` by choosing the parameter `multi_class=multinomial`\n",
        "- Use train data that you have splitted in the second section to train your models.\n",
        "- predict labels for test data.\n",
        "- evaluate your models using the metric that you have chosen for the last two sections.\n",
        "- which model has the best performance?\n",
        "\n",
        "\n",
        "**Write the answer below:** "
      ]
    },
    {
      "cell_type": "code",
      "execution_count": 279,
      "metadata": {
        "id": "TM9vtV-fuS2j"
      },
      "outputs": [],
      "source": [
        "# define models\n",
        "from sklearn.neighbors import KNeighborsClassifier\n",
        "from sklearn.naive_bayes import GaussianNB\n",
        "from sklearn.linear_model import LogisticRegression\n",
        "\n",
        "knn = KNeighborsClassifier()\n",
        "nb = GaussianNB()\n",
        "lr = LogisticRegression(max_iter=5000)"
      ]
    },
    {
      "cell_type": "code",
      "execution_count": 280,
      "metadata": {
        "id": "uddiFmfEuS2j"
      },
      "outputs": [
        {
          "data": {
            "text/html": [
              "<style>#sk-container-id-8 {color: black;background-color: white;}#sk-container-id-8 pre{padding: 0;}#sk-container-id-8 div.sk-toggleable {background-color: white;}#sk-container-id-8 label.sk-toggleable__label {cursor: pointer;display: block;width: 100%;margin-bottom: 0;padding: 0.3em;box-sizing: border-box;text-align: center;}#sk-container-id-8 label.sk-toggleable__label-arrow:before {content: \"▸\";float: left;margin-right: 0.25em;color: #696969;}#sk-container-id-8 label.sk-toggleable__label-arrow:hover:before {color: black;}#sk-container-id-8 div.sk-estimator:hover label.sk-toggleable__label-arrow:before {color: black;}#sk-container-id-8 div.sk-toggleable__content {max-height: 0;max-width: 0;overflow: hidden;text-align: left;background-color: #f0f8ff;}#sk-container-id-8 div.sk-toggleable__content pre {margin: 0.2em;color: black;border-radius: 0.25em;background-color: #f0f8ff;}#sk-container-id-8 input.sk-toggleable__control:checked~div.sk-toggleable__content {max-height: 200px;max-width: 100%;overflow: auto;}#sk-container-id-8 input.sk-toggleable__control:checked~label.sk-toggleable__label-arrow:before {content: \"▾\";}#sk-container-id-8 div.sk-estimator input.sk-toggleable__control:checked~label.sk-toggleable__label {background-color: #d4ebff;}#sk-container-id-8 div.sk-label input.sk-toggleable__control:checked~label.sk-toggleable__label {background-color: #d4ebff;}#sk-container-id-8 input.sk-hidden--visually {border: 0;clip: rect(1px 1px 1px 1px);clip: rect(1px, 1px, 1px, 1px);height: 1px;margin: -1px;overflow: hidden;padding: 0;position: absolute;width: 1px;}#sk-container-id-8 div.sk-estimator {font-family: monospace;background-color: #f0f8ff;border: 1px dotted black;border-radius: 0.25em;box-sizing: border-box;margin-bottom: 0.5em;}#sk-container-id-8 div.sk-estimator:hover {background-color: #d4ebff;}#sk-container-id-8 div.sk-parallel-item::after {content: \"\";width: 100%;border-bottom: 1px solid gray;flex-grow: 1;}#sk-container-id-8 div.sk-label:hover label.sk-toggleable__label {background-color: #d4ebff;}#sk-container-id-8 div.sk-serial::before {content: \"\";position: absolute;border-left: 1px solid gray;box-sizing: border-box;top: 0;bottom: 0;left: 50%;z-index: 0;}#sk-container-id-8 div.sk-serial {display: flex;flex-direction: column;align-items: center;background-color: white;padding-right: 0.2em;padding-left: 0.2em;position: relative;}#sk-container-id-8 div.sk-item {position: relative;z-index: 1;}#sk-container-id-8 div.sk-parallel {display: flex;align-items: stretch;justify-content: center;background-color: white;position: relative;}#sk-container-id-8 div.sk-item::before, #sk-container-id-8 div.sk-parallel-item::before {content: \"\";position: absolute;border-left: 1px solid gray;box-sizing: border-box;top: 0;bottom: 0;left: 50%;z-index: -1;}#sk-container-id-8 div.sk-parallel-item {display: flex;flex-direction: column;z-index: 1;position: relative;background-color: white;}#sk-container-id-8 div.sk-parallel-item:first-child::after {align-self: flex-end;width: 50%;}#sk-container-id-8 div.sk-parallel-item:last-child::after {align-self: flex-start;width: 50%;}#sk-container-id-8 div.sk-parallel-item:only-child::after {width: 0;}#sk-container-id-8 div.sk-dashed-wrapped {border: 1px dashed gray;margin: 0 0.4em 0.5em 0.4em;box-sizing: border-box;padding-bottom: 0.4em;background-color: white;}#sk-container-id-8 div.sk-label label {font-family: monospace;font-weight: bold;display: inline-block;line-height: 1.2em;}#sk-container-id-8 div.sk-label-container {text-align: center;}#sk-container-id-8 div.sk-container {/* jupyter's `normalize.less` sets `[hidden] { display: none; }` but bootstrap.min.css set `[hidden] { display: none !important; }` so we also need the `!important` here to be able to override the default hidden behavior on the sphinx rendered scikit-learn.org. See: https://github.com/scikit-learn/scikit-learn/issues/21755 */display: inline-block !important;position: relative;}#sk-container-id-8 div.sk-text-repr-fallback {display: none;}</style><div id=\"sk-container-id-8\" class=\"sk-top-container\"><div class=\"sk-text-repr-fallback\"><pre>LogisticRegression(max_iter=5000)</pre><b>In a Jupyter environment, please rerun this cell to show the HTML representation or trust the notebook. <br />On GitHub, the HTML representation is unable to render, please try loading this page with nbviewer.org.</b></div><div class=\"sk-container\" hidden><div class=\"sk-item\"><div class=\"sk-estimator sk-toggleable\"><input class=\"sk-toggleable__control sk-hidden--visually\" id=\"sk-estimator-id-8\" type=\"checkbox\" checked><label for=\"sk-estimator-id-8\" class=\"sk-toggleable__label sk-toggleable__label-arrow\">LogisticRegression</label><div class=\"sk-toggleable__content\"><pre>LogisticRegression(max_iter=5000)</pre></div></div></div></div></div>"
            ],
            "text/plain": [
              "LogisticRegression(max_iter=5000)"
            ]
          },
          "execution_count": 280,
          "metadata": {},
          "output_type": "execute_result"
        }
      ],
      "source": [
        "# Train Models\n",
        "knn.fit(X_train, y_train)   \n",
        "nb.fit(X_train, y_train)   \n",
        "lr.fit(X_train, y_train)  "
      ]
    },
    {
      "cell_type": "code",
      "execution_count": 281,
      "metadata": {
        "id": "9E4fU9oQuS2j"
      },
      "outputs": [
        {
          "name": "stdout",
          "output_type": "stream",
          "text": [
            "knn: 0.5581395348837209\n",
            "nb: 0.4418604651162791\n",
            "lr: 0.627906976744186\n"
          ]
        }
      ],
      "source": [
        "# Evaluate models\n",
        "from sklearn.metrics import accuracy_score\n",
        "\n",
        "y_pred_knn = knn.predict(X_test)\n",
        "y_pred_nb = nb.predict(X_test)\n",
        "y_pred_lr = lr.predict(X_test)\n",
        "\n",
        "print('knn:', accuracy_score(y_pred_knn, y_test))\n",
        "print('nb:', accuracy_score(y_pred_nb, y_test))\n",
        "print('lr:', accuracy_score(y_pred_lr, y_test))"
      ]
    },
    {
      "cell_type": "markdown",
      "metadata": {
        "id": "TLLjvMwJuS2j"
      },
      "source": [
        "______________________________"
      ]
    },
    {
      "cell_type": "markdown",
      "metadata": {
        "id": "kJWOXdJEuS2j"
      },
      "source": [
        "## Dealing with Imbalance Data"
      ]
    },
    {
      "cell_type": "markdown",
      "metadata": {
        "id": "9ejjXaUJuS2j"
      },
      "source": [
        "As you may have noticed up to now, the dataset that we have in this handsOn and the dataset that we had in the morning session are both imbalanced. Imbalanced datasets may often produce poor performance when running a Machine Learning model, although, in some cases the evaluation metrics produce good results. This can be due to the fact that the model is good at predicting the majority class, but it has poor performance while predicting the minority class. Since the evaluation metrics calculate the average value between the majority and minority classes, the final performance looks ok.\n",
        "\n",
        "In this part of HandsOn we are going to introduce different techniques to deal with Imbalanced data."
      ]
    },
    {
      "cell_type": "markdown",
      "metadata": {
        "id": "VWpbS96iuS2j"
      },
      "source": [
        "### Random Undersampling\n",
        "As the name suggests, random undersampling reduces the number of majority classes randomly down to the desired ratio against the minority class. This is probably the easiest way to undersample and can actually yield good results if there are a lot of the majority class instances that are close to each other.\n",
        "\n",
        "\n",
        "\n",
        "\n",
        "#### 💭 Questions\n",
        "- First you need to install an `imbalanced-learn` library to work with this section's methods.\n",
        "- Use the method for `Random Under Sampling` from the library you have installed to under-sample the train data that you have Splitted in the second section.\n",
        "- print the shape of train data after undersampling.\n",
        "- Train models on the new resampled train data and evaluate your models on the test data from section two.\n",
        "- Compare the performance with the models that you have trained on the imbalanced data. Is there any improvement?\n",
        "\n",
        "\n",
        "\n",
        "**Write the answer below:** "
      ]
    },
    {
      "cell_type": "code",
      "execution_count": 282,
      "metadata": {
        "id": "H47kHspOuS2k"
      },
      "outputs": [
        {
          "name": "stdout",
          "output_type": "stream",
          "text": [
            "Requirement already satisfied: imbalanced-learn in c:\\users\\lenovo\\appdata\\local\\packages\\pythonsoftwarefoundation.python.3.10_qbz5n2kfra8p0\\localcache\\local-packages\\python310\\site-packages (0.10.1)\n",
            "Requirement already satisfied: threadpoolctl>=2.0.0 in c:\\users\\lenovo\\appdata\\local\\packages\\pythonsoftwarefoundation.python.3.10_qbz5n2kfra8p0\\localcache\\local-packages\\python310\\site-packages (from imbalanced-learn) (3.1.0)\n",
            "Requirement already satisfied: numpy>=1.17.3 in c:\\users\\lenovo\\appdata\\local\\packages\\pythonsoftwarefoundation.python.3.10_qbz5n2kfra8p0\\localcache\\local-packages\\python310\\site-packages (from imbalanced-learn) (1.23.2)\n",
            "Requirement already satisfied: joblib>=1.1.1 in c:\\users\\lenovo\\appdata\\local\\packages\\pythonsoftwarefoundation.python.3.10_qbz5n2kfra8p0\\localcache\\local-packages\\python310\\site-packages (from imbalanced-learn) (1.2.0)\n",
            "Requirement already satisfied: scipy>=1.3.2 in c:\\users\\lenovo\\appdata\\local\\packages\\pythonsoftwarefoundation.python.3.10_qbz5n2kfra8p0\\localcache\\local-packages\\python310\\site-packages (from imbalanced-learn) (1.9.1)\n",
            "Requirement already satisfied: scikit-learn>=1.0.2 in c:\\users\\lenovo\\appdata\\local\\packages\\pythonsoftwarefoundation.python.3.10_qbz5n2kfra8p0\\localcache\\local-packages\\python310\\site-packages (from imbalanced-learn) (1.1.2)\n"
          ]
        },
        {
          "name": "stderr",
          "output_type": "stream",
          "text": [
            "\n",
            "[notice] A new release of pip is available: 23.0.1 -> 23.1.2\n",
            "[notice] To update, run: C:\\Users\\Lenovo\\AppData\\Local\\Microsoft\\WindowsApps\\PythonSoftwareFoundation.Python.3.10_qbz5n2kfra8p0\\python.exe -m pip install --upgrade pip\n"
          ]
        }
      ],
      "source": [
        "# pip install imblearn\n",
        "! pip install imbalanced-learn"
      ]
    },
    {
      "cell_type": "code",
      "execution_count": 283,
      "metadata": {
        "id": "LY5F-0H5uS2k"
      },
      "outputs": [],
      "source": [
        "# Under sample\n",
        "from imblearn.under_sampling import RandomUnderSampler\n",
        "\n",
        "X_train_up, y_train_up = RandomUnderSampler().fit_resample(X_train, y_train)"
      ]
    },
    {
      "cell_type": "code",
      "execution_count": 284,
      "metadata": {
        "id": "jN3kXvYIuS2k"
      },
      "outputs": [
        {
          "name": "stdout",
          "output_type": "stream",
          "text": [
            "(36, 9)\n",
            "(36,)\n"
          ]
        }
      ],
      "source": [
        "# Print shape of data\n",
        "print(X_train_up.shape)\n",
        "print(y_train_up.shape)"
      ]
    },
    {
      "cell_type": "code",
      "execution_count": 285,
      "metadata": {
        "id": "4NJuDdNIuS2k"
      },
      "outputs": [],
      "source": [
        "# Train Models\n",
        "knn.fit(X_train_up, y_train_up)   \n",
        "nb.fit(X_train_up, y_train_up)   \n",
        "lr.fit(X_train_up, y_train_up)  \n",
        "\n",
        "y_pred_up_knn = knn.predict(X_test)\n",
        "y_pred_up_nb = nb.predict(X_test)\n",
        "y_pred_up_lr = lr.predict(X_test)\n"
      ]
    },
    {
      "cell_type": "code",
      "execution_count": 286,
      "metadata": {
        "id": "5lRT6DWluS2k"
      },
      "outputs": [
        {
          "name": "stdout",
          "output_type": "stream",
          "text": [
            "knn: 0.5116279069767442\n",
            "nb: 0.5116279069767442\n",
            "lr: 0.4418604651162791\n"
          ]
        }
      ],
      "source": [
        "# Evaluate Models\n",
        "\n",
        "print('knn:', accuracy_score(y_pred_up_knn, y_test))\n",
        "print('nb:', accuracy_score(y_pred_up_nb, y_test))\n",
        "print('lr:', accuracy_score(y_pred_up_lr, y_test))"
      ]
    },
    {
      "cell_type": "markdown",
      "metadata": {
        "id": "0JAmq7SeuS2k"
      },
      "source": [
        "### Oversampling with SMOTE\n",
        "For over-sampling techniques, SMOTE (Synthetic Minority Oversampling Technique) is considered as one of the most popular and influential data sampling algorithms in ML and data mining. With SMOTE, the minority class is over-sampled by creating “synthetic” examples rather than by over-sampling with replacement.\n",
        "\n",
        "\n",
        "\n",
        "\n",
        "#### 💭 Questions\n",
        "- Use the method for `SMOTE` from the library you have installed to under-sample the train data that you have Splitted in the second section.\n",
        "- print the shape of train data after oversampling.\n",
        "- Train models on the new resampled train data and evaluate your models on the test data from section two.\n",
        "- Compare the performance with the models that you have trained on the imbalanced data and when you have undersampled. Is there any improvement?\n",
        "\n",
        "\n",
        "**Write the answer below:** "
      ]
    },
    {
      "cell_type": "code",
      "execution_count": 287,
      "metadata": {
        "id": "gDhOWQz7uS2p"
      },
      "outputs": [
        {
          "name": "stdout",
          "output_type": "stream",
          "text": [
            "Requirement already satisfied: threadpoolctl in c:\\users\\lenovo\\appdata\\local\\packages\\pythonsoftwarefoundation.python.3.10_qbz5n2kfra8p0\\localcache\\local-packages\\python310\\site-packages (3.1.0)\n"
          ]
        },
        {
          "name": "stderr",
          "output_type": "stream",
          "text": [
            "\n",
            "[notice] A new release of pip is available: 23.0.1 -> 23.1.2\n",
            "[notice] To update, run: C:\\Users\\Lenovo\\AppData\\Local\\Microsoft\\WindowsApps\\PythonSoftwareFoundation.Python.3.10_qbz5n2kfra8p0\\python.exe -m pip install --upgrade pip\n"
          ]
        }
      ],
      "source": [
        "! pip install -U threadpoolctl"
      ]
    },
    {
      "cell_type": "code",
      "execution_count": 288,
      "metadata": {
        "id": "gzsSgsaBuS2p"
      },
      "outputs": [],
      "source": [
        "# Oversampling \n",
        "from imblearn.over_sampling import SMOTE\n",
        "\n",
        "X_train_op, y_train_op = SMOTE().fit_resample(X_train, y_train)"
      ]
    },
    {
      "cell_type": "code",
      "execution_count": 289,
      "metadata": {
        "id": "Oc8qi0M5uS2q"
      },
      "outputs": [
        {
          "name": "stdout",
          "output_type": "stream",
          "text": [
            "(348, 9)\n",
            "(348,)\n"
          ]
        }
      ],
      "source": [
        "# Print shape of data\n",
        "print(X_train_op.shape)\n",
        "print(y_train_op.shape)"
      ]
    },
    {
      "cell_type": "code",
      "execution_count": 290,
      "metadata": {
        "id": "1c9-P98nuS2q"
      },
      "outputs": [],
      "source": [
        "# Train Models\n",
        "knn.fit(X_train_up, y_train_up)   \n",
        "nb.fit(X_train_up, y_train_up)   \n",
        "lr.fit(X_train_up, y_train_up)  \n",
        "\n",
        "y_pred_op_knn = knn.predict(X_test)\n",
        "y_pred_op_nb = nb.predict(X_test)\n",
        "y_pred_op_lr = lr.predict(X_test)"
      ]
    },
    {
      "cell_type": "code",
      "execution_count": 291,
      "metadata": {
        "id": "KsFs77F_uS2q"
      },
      "outputs": [
        {
          "name": "stdout",
          "output_type": "stream",
          "text": [
            "knn: 0.5116279069767442\n",
            "nb: 0.5116279069767442\n",
            "lr: 0.4418604651162791\n"
          ]
        }
      ],
      "source": [
        "# Evaluate Models\n",
        "print('knn:', accuracy_score(y_pred_op_knn, y_test))\n",
        "print('nb:', accuracy_score(y_pred_op_nb, y_test))\n",
        "print('lr:', accuracy_score(y_pred_op_lr, y_test))"
      ]
    },
    {
      "cell_type": "markdown",
      "metadata": {
        "id": "6a11fdCmuS2q"
      },
      "source": [
        "___________________________"
      ]
    },
    {
      "cell_type": "markdown",
      "metadata": {
        "id": "R7UMtxC2uS2q"
      },
      "source": [
        "## Effect of Over-Sampling and Under Sampling"
      ]
    },
    {
      "cell_type": "markdown",
      "metadata": {
        "id": "qyOLWqbiuS2q"
      },
      "source": [
        "In this section we want to compare the effect of methods that we have used to deal with imbalanced datasets.\n",
        "#### 💭 Questions\n",
        "- plot a bar plot to compare the effect of methods we have used for balancing datasets. The x-axis of this plot must be classifiers in 3 conditions (imbalanced data, undersampling and oversampling) and the y-axis must be the metric that you have chosen to compare classifiers.\n",
        "\n",
        "\n",
        "**Write the answer below:** "
      ]
    },
    {
      "cell_type": "code",
      "execution_count": 322,
      "metadata": {
        "id": "IDo2O6WQuS2q"
      },
      "outputs": [
        {
          "data": {
            "text/plain": [
              "<matplotlib.legend.Legend at 0x1ec8d4d0250>"
            ]
          },
          "execution_count": 322,
          "metadata": {},
          "output_type": "execute_result"
        },
        {
          "data": {
            "image/png": "[encoded data removed]",
            "text/plain": [
              "<Figure size 640x480 with 1 Axes>"
            ]
          },
          "metadata": {},
          "output_type": "display_data"
        }
      ],
      "source": [
        "# Compare\n",
        "import numpy as np\n",
        "\n",
        "accuracy_scores_knn = [accuracy_score(y_pred_knn, y_test), accuracy_score(y_pred_up_knn, y_test), accuracy_score(y_pred_op_knn, y_test)]\n",
        "accuracy_scores_nb = [accuracy_score(y_pred_nb, y_test), accuracy_score(y_pred_up_nb, y_test), accuracy_score(y_pred_op_nb, y_test)]\n",
        "accuracy_scores_lr = [accuracy_score(y_pred_lr, y_test), accuracy_score(y_pred_up_lr, y_test), accuracy_score(y_pred_op_lr, y_test)]\n",
        "\n",
        "x = np.arange(3)\n",
        "plt.bar(x, accuracy_scores_knn, width=0.25, label='knn')\n",
        "plt.bar(x+0.25, accuracy_scores_nb, width=0.25, label='nb')\n",
        "plt.bar(x+0.5, accuracy_scores_lr, width=0.25, label='lr')\n",
        "plt.legend()"
      ]
    },
    {
      "cell_type": "code",
      "execution_count": null,
      "metadata": {},
      "outputs": [],
      "source": []
    }
  ],
  "metadata": {
    "colab": {
      "provenance": []
    },
    "kernelspec": {
      "display_name": "Python 3",
      "language": "python",
      "name": "python3"
    },
    "language_info": {
      "codemirror_mode": {
        "name": "ipython",
        "version": 3
      },
      "file_extension": ".py",
      "mimetype": "text/x-python",
      "name": "python",
      "nbconvert_exporter": "python",
      "pygments_lexer": "ipython3",
      "version": "3.10.11"
    },
    "orig_nbformat": 4
  },
  "nbformat": 4,
  "nbformat_minor": 0
}
